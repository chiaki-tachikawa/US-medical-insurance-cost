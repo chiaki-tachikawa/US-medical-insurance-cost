{
 "cells": [
  {
   "cell_type": "code",
   "execution_count": 4,
   "metadata": {
    "scrolled": true
   },
   "outputs": [
    {
     "name": "stdout",
     "output_type": "stream",
     "text": [
      "      age     sex     bmi  children smoker     region      charges\n",
      "0      19  female  27.900         0    yes  southwest  16884.92400\n",
      "1      18    male  33.770         1     no  southeast   1725.55230\n",
      "2      28    male  33.000         3     no  southeast   4449.46200\n",
      "3      33    male  22.705         0     no  northwest  21984.47061\n",
      "4      32    male  28.880         0     no  northwest   3866.85520\n",
      "...   ...     ...     ...       ...    ...        ...          ...\n",
      "1333   50    male  30.970         3     no  northwest  10600.54830\n",
      "1334   18  female  31.920         0     no  northeast   2205.98080\n",
      "1335   18  female  36.850         0     no  southeast   1629.83350\n",
      "1336   21  female  25.800         0     no  southwest   2007.94500\n",
      "1337   61  female  29.070         0    yes  northwest  29141.36030\n",
      "\n",
      "[1338 rows x 7 columns]\n"
     ]
    }
   ],
   "source": [
    "import pandas as pd\n",
    "import numpy as np\n",
    "\n",
    "data = pd.read_csv(\"insurance.csv\")\n",
    "df = pd.DataFrame(data)\n",
    "\n",
    "print(df)\n"
   ]
  },
  {
   "cell_type": "code",
   "execution_count": 9,
   "metadata": {},
   "outputs": [
    {
     "name": "stdout",
     "output_type": "stream",
     "text": [
      "Average age is 39.21\n",
      "64\n"
     ]
    }
   ],
   "source": [
    "ave = data[\"age\"].mean()\n",
    "print(\"Average age is \" + str( \"{:.2f}\".format(ave)))\n",
    "\n",
    "\n",
    "print(data[\"age\"].max())\n",
    "\n"
   ]
  },
  {
   "cell_type": "code",
   "execution_count": 3,
   "metadata": {},
   "outputs": [
    {
     "name": "stdout",
     "output_type": "stream",
     "text": [
      "Index(['age', 'sex', 'bmi', 'children', 'smoker', 'region', 'charges'], dtype='object')\n"
     ]
    }
   ],
   "source": [
    "#practice\n",
    "print(df.columns)"
   ]
  },
  {
   "cell_type": "code",
   "execution_count": 10,
   "metadata": {
    "scrolled": true
   },
   "outputs": [
    {
     "name": "stdout",
     "output_type": "stream",
     "text": [
      "[[19 'female' 27.9 ... 'yes' 'southwest' 16884.924]\n",
      " [18 'male' 33.77 ... 'no' 'southeast' 1725.5523]\n",
      " [28 'male' 33.0 ... 'no' 'southeast' 4449.462]\n",
      " ...\n",
      " [18 'female' 36.85 ... 'no' 'southeast' 1629.8335]\n",
      " [21 'female' 25.8 ... 'no' 'southwest' 2007.945]\n",
      " [61 'female' 29.07 ... 'yes' 'northwest' 29141.3603]]\n"
     ]
    }
   ],
   "source": [
    "#practice\n",
    "list_data = df.to_numpy()\n",
    "print(list_data)"
   ]
  },
  {
   "cell_type": "code",
   "execution_count": 5,
   "metadata": {},
   "outputs": [
    {
     "name": "stdout",
     "output_type": "stream",
     "text": [
      "[19 'female' 27.9 0 'yes' 'southwest' 16884.924]\n"
     ]
    }
   ],
   "source": [
    "#practice\n",
    "print(list_data[0])"
   ]
  },
  {
   "cell_type": "code",
   "execution_count": 24,
   "metadata": {
    "scrolled": true
   },
   "outputs": [
    {
     "data": {
      "text/html": [
       "<div>\n",
       "<style scoped>\n",
       "    .dataframe tbody tr th:only-of-type {\n",
       "        vertical-align: middle;\n",
       "    }\n",
       "\n",
       "    .dataframe tbody tr th {\n",
       "        vertical-align: top;\n",
       "    }\n",
       "\n",
       "    .dataframe thead th {\n",
       "        text-align: right;\n",
       "    }\n",
       "</style>\n",
       "<table border=\"1\" class=\"dataframe\">\n",
       "  <thead>\n",
       "    <tr style=\"text-align: right;\">\n",
       "      <th></th>\n",
       "      <th>age</th>\n",
       "      <th>bmi</th>\n",
       "      <th>children</th>\n",
       "      <th>charges</th>\n",
       "    </tr>\n",
       "  </thead>\n",
       "  <tbody>\n",
       "    <tr>\n",
       "      <th>count</th>\n",
       "      <td>1338.000000</td>\n",
       "      <td>1338.000000</td>\n",
       "      <td>1338.000000</td>\n",
       "      <td>1338.000000</td>\n",
       "    </tr>\n",
       "    <tr>\n",
       "      <th>mean</th>\n",
       "      <td>39.207025</td>\n",
       "      <td>30.663397</td>\n",
       "      <td>1.094918</td>\n",
       "      <td>13270.422265</td>\n",
       "    </tr>\n",
       "    <tr>\n",
       "      <th>std</th>\n",
       "      <td>14.049960</td>\n",
       "      <td>6.098187</td>\n",
       "      <td>1.205493</td>\n",
       "      <td>12110.011237</td>\n",
       "    </tr>\n",
       "    <tr>\n",
       "      <th>min</th>\n",
       "      <td>18.000000</td>\n",
       "      <td>15.960000</td>\n",
       "      <td>0.000000</td>\n",
       "      <td>1121.873900</td>\n",
       "    </tr>\n",
       "    <tr>\n",
       "      <th>25%</th>\n",
       "      <td>27.000000</td>\n",
       "      <td>26.296250</td>\n",
       "      <td>0.000000</td>\n",
       "      <td>4740.287150</td>\n",
       "    </tr>\n",
       "    <tr>\n",
       "      <th>50%</th>\n",
       "      <td>39.000000</td>\n",
       "      <td>30.400000</td>\n",
       "      <td>1.000000</td>\n",
       "      <td>9382.033000</td>\n",
       "    </tr>\n",
       "    <tr>\n",
       "      <th>75%</th>\n",
       "      <td>51.000000</td>\n",
       "      <td>34.693750</td>\n",
       "      <td>2.000000</td>\n",
       "      <td>16639.912515</td>\n",
       "    </tr>\n",
       "    <tr>\n",
       "      <th>max</th>\n",
       "      <td>64.000000</td>\n",
       "      <td>53.130000</td>\n",
       "      <td>5.000000</td>\n",
       "      <td>63770.428010</td>\n",
       "    </tr>\n",
       "  </tbody>\n",
       "</table>\n",
       "</div>"
      ],
      "text/plain": [
       "               age          bmi     children       charges\n",
       "count  1338.000000  1338.000000  1338.000000   1338.000000\n",
       "mean     39.207025    30.663397     1.094918  13270.422265\n",
       "std      14.049960     6.098187     1.205493  12110.011237\n",
       "min      18.000000    15.960000     0.000000   1121.873900\n",
       "25%      27.000000    26.296250     0.000000   4740.287150\n",
       "50%      39.000000    30.400000     1.000000   9382.033000\n",
       "75%      51.000000    34.693750     2.000000  16639.912515\n",
       "max      64.000000    53.130000     5.000000  63770.428010"
      ]
     },
     "execution_count": 24,
     "metadata": {},
     "output_type": "execute_result"
    }
   ],
   "source": [
    "#overview of the data \n",
    "\n",
    "df.describe()\n"
   ]
  },
  {
   "cell_type": "code",
   "execution_count": 12,
   "metadata": {
    "scrolled": true
   },
   "outputs": [
    {
     "name": "stdout",
     "output_type": "stream",
     "text": [
      "      age     sex     bmi  children smoker     region      charges\n",
      "6      46  female  33.440         1     no  southeast   8240.58960\n",
      "42     41    male  21.780         1     no  southeast   6272.47720\n",
      "52     48    male  28.000         1    yes  southwest  23568.27200\n",
      "54     40  female  28.690         3     no  northwest   8059.67910\n",
      "60     43    male  27.360         3     no  northeast   8606.21740\n",
      "...   ...     ...     ...       ...    ...        ...          ...\n",
      "1304   42    male  24.605         2    yes  northeast  21259.37795\n",
      "1309   41    male  32.200         2     no  southwest   6875.96100\n",
      "1310   42    male  26.315         1     no  northwest   6940.90985\n",
      "1323   42  female  40.370         2    yes  southeast  43896.37630\n",
      "1326   42  female  32.870         0     no  northeast   7050.02130\n",
      "\n",
      "[279 rows x 7 columns]\n"
     ]
    }
   ],
   "source": [
    "teens= df[df.age <20]\n",
    "twenties = df[(df.age <30) & (df.age>=20)]\n",
    "thirties = df[(df.age <40) & (df.age>=30)]\n",
    "fourties = df[(df.age <50) & (df.age>=40)]\n",
    "fifties = df[(df.age <60) & (df.age>=50)]\n",
    "sixties = df[(df.age <70) & (df.age>=60)]\n",
    "\n",
    "print(fourties)"
   ]
  },
  {
   "cell_type": "code",
   "execution_count": 23,
   "metadata": {},
   "outputs": [
    {
     "name": "stdout",
     "output_type": "stream",
     "text": [
      "Average charge for teens is 8407.35\n",
      "Minimum charge for teens is 1121.8739\n",
      "Maximum charge for teens is 39722.7462\n",
      "The num of teens is 137\n",
      "Average charge for twenties is 9561.75\n",
      "Minimum charge for twenties is 1391.5287\n",
      "Maximum charge for twenties is 51194.55914\n",
      "The num of twentie is 280\n",
      "Average charge for thirties is 11738.78\n",
      "Minimum charge for thirties is 3260.199\n",
      "Maximum charge for thirties is 58571.07\n",
      "The num of thirties is 257\n",
      "Average charge for forties is 14399.20\n",
      "Minimum charge for forties is 5415.6612\n",
      "Maximum charge for forties is 62592.87309\n",
      "The num of fourties is 279\n",
      "Average charge for fifties is 16495.23\n",
      "Minimum charge for fifties is 8442.667\n",
      "Maximum charge for fifties is 63770.42801\n",
      "The num of fifties is 271\n",
      "Average charge for sixties is 21248.02\n",
      "Minimum charge for sixties is 12142.58\n",
      "Maximum charge for sixties is 52590.83\n",
      "The num of sixties is 114\n"
     ]
    }
   ],
   "source": [
    "#teenage: Average, minimu, maximum charge, and the number of teens\n",
    "average_teen = teens[\"charges\"].mean()\n",
    "print(\"Average charge for teens is \"+ str(\"{:.2f}\".format(average_teen)))\n",
    "print(\"Minimum charge for teens is \"+str(teens[\"charges\"].min()))\n",
    "print(\"Maximum charge for teens is \"+str(teens[\"charges\"].max()))\n",
    "teen_number = teens[\"charges\"].count()\n",
    "print(\"The num of teens is \" + str(teens[\"charges\"].count()))\n",
    "\n",
    "\n",
    "#twenties: Average, minimu, maximum charge, and the number of twenties\n",
    "average_twenty = twenties[\"charges\"].mean()\n",
    "print(\"Average charge for twenties is \"+ str(\"{:.2f}\".format(average_twenty)))\n",
    "print(\"Minimum charge for twenties is \"+str(twenties[\"charges\"].min()))\n",
    "print(\"Maximum charge for twenties is \"+str(twenties[\"charges\"].max()))\n",
    "print(\"The num of twentie is \" + str(twenties[\"charges\"].count()))\n",
    "\n",
    "#thirties: Average, minimu, maximum charge, and the number of thirties\n",
    "average_thirty = thirties[\"charges\"].mean()\n",
    "print(\"Average charge for thirties is \"+ str(\"{:.2f}\".format(average_thirty)))\n",
    "print(\"Minimum charge for thirties is \"+str(thirties[\"charges\"].min()))\n",
    "print(\"Maximum charge for thirties is \"+str(\"{:.2f}\".format(thirties[\"charges\"].max())))\n",
    "print(\"The num of thirties is \" + str(thirties[\"charges\"].count()))\n",
    "\n",
    "\n",
    "#forties: Average, minimu, maximum charge, and the number of forties\n",
    "average_fourty = fourties[\"charges\"].mean()\n",
    "print(\"Average charge for forties is \"+ str(\"{:.2f}\".format(average_fourty)))\n",
    "print(\"Minimum charge for forties is \"+str(fourties[\"charges\"].min()))\n",
    "print(\"Maximum charge for forties is \"+str(fourties[\"charges\"].max()))\n",
    "print(\"The num of fourties is \" + str(fourties[\"charges\"].count()))\n",
    "\n",
    "\n",
    "#fifties: Average, minimu, maximum charge, and the number of fifties\n",
    "average_fifty = fifties[\"charges\"].mean()\n",
    "print(\"Average charge for fifties is \"+ str(\"{:.2f}\".format(average_fifty)))\n",
    "print(\"Minimum charge for fifties is \"+str(fifties[\"charges\"].min()))\n",
    "print(\"Maximum charge for fifties is \"+str(fifties[\"charges\"].max()))\n",
    "print(\"The num of fifties is \" + str(fifties[\"charges\"].count()))\n",
    "\n",
    "\n",
    "#sixties: Average, minimu, maximum charge, and the number of sixties\n",
    "average_sixty = sixties[\"charges\"].mean()\n",
    "print(\"Average charge for sixties is \"+ str(\"{:.2f}\".format(average_sixty)))\n",
    "print(\"Minimum charge for sixties is \"+str(\"{:.2f}\".format(sixties[\"charges\"].min())))\n",
    "print(\"Maximum charge for sixties is \"+str(\"{:.2f}\".format(sixties[\"charges\"].max())))\n",
    "print(\"The num of sixties is \" + str(sixties[\"charges\"].count()))"
   ]
  },
  {
   "cell_type": "code",
   "execution_count": 22,
   "metadata": {},
   "outputs": [
    {
     "name": "stderr",
     "output_type": "stream",
     "text": [
      "<ipython-input-22-8a80fbd1540f>:11: MatplotlibDeprecationWarning: Adding an axes using the same arguments as a previous axes currently reuses the earlier instance.  In a future version, a new instance will always be created and returned.  Meanwhile, this warning can be suppressed, and the future behavior ensured, by passing a unique label to each axes instance.\n",
      "  ax = plt.subplot()\n",
      "<ipython-input-22-8a80fbd1540f>:13: UserWarning: FixedFormatter should only be used together with FixedLocator\n",
      "  ax.set_xticklabels(age_range)\n"
     ]
    },
    {
     "data": {
      "image/png": "[encoded data removed]",
      "text/plain": [
       "<Figure size 720x576 with 1 Axes>"
      ]
     },
     "metadata": {
      "needs_background": "light"
     },
     "output_type": "display_data"
    }
   ],
   "source": [
    "#bar graph for average charge for each age group\n",
    "\n",
    "from matplotlib import pyplot as plt\n",
    "average = [average_teen, average_twenty, average_thirty, average_fourty, average_fifty,average_sixty]\n",
    "age_range = [\"\",\"18 to 19 Years\", \"20 to 29 Years\", \"30 to 39 Years\", \"40 to 49 Years\", \"50 to 59 Years\", \"60 to 64 Years\"]\n",
    "plt.figure(figsize=(10,8))\n",
    "\n",
    "plt.bar(range(len(average)), average, color=\"#81AE32\")\n",
    "plt.title (\"Average Charge for each age group\")\n",
    "plt.xlabel(\"Age Group\")\n",
    "plt.ylabel(\"Insurance Charge\")\n",
    "\n",
    "ax = plt.subplot()\n",
    "\n",
    "ax.set_xticklabels(age_range)\n",
    "plt.show()"
   ]
  },
  {
   "cell_type": "code",
   "execution_count": 38,
   "metadata": {},
   "outputs": [
    {
     "data": {
      "image/png": "[encoded data removed]",
      "text/plain": [
       "<Figure size 720x576 with 1 Axes>"
      ]
     },
     "metadata": {
      "needs_background": "light"
     },
     "output_type": "display_data"
    }
   ],
   "source": [
    "# Scatter graphs to show the relation between age and costs\n",
    "    #found that there three groups of insurance cost ranges!!\n",
    "    #the lowest group is intense. I assume these pople are healty\n",
    "    #I would like to find out what causes the middle and high insurance gro\n",
    "plt.figure(figsize=(10,8))\n",
    "plt.scatter(df[\"age\"], df[\"charges\"])\n",
    "plt.xlabel(\"Age\")\n",
    "plt.ylabel(\"Charge\")\n",
    "plt.title(\"The trend of insurance costs by age\")\n",
    "plt.show()"
   ]
  },
  {
   "cell_type": "code",
   "execution_count": null,
   "metadata": {},
   "outputs": [],
   "source": []
  }
 ],
 "metadata": {
  "kernelspec": {
   "display_name": "Python 3",
   "language": "python",
   "name": "python3"
  },
  "language_info": {
   "codemirror_mode": {
    "name": "ipython",
    "version": 3
   },
   "file_extension": ".py",
   "mimetype": "text/x-python",
   "name": "python",
   "nbconvert_exporter": "python",
   "pygments_lexer": "ipython3",
   "version": "3.8.5"
  }
 },
 "nbformat": 4,
 "nbformat_minor": 4
}
