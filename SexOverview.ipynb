{
 "cells": [
  {
   "cell_type": "code",
   "execution_count": 1,
   "metadata": {},
   "outputs": [
    {
     "name": "stdout",
     "output_type": "stream",
     "text": [
      "      age     sex     bmi  children smoker     region      charges\n",
      "0      19  female  27.900         0    yes  southwest  16884.92400\n",
      "1      18    male  33.770         1     no  southeast   1725.55230\n",
      "2      28    male  33.000         3     no  southeast   4449.46200\n",
      "3      33    male  22.705         0     no  northwest  21984.47061\n",
      "4      32    male  28.880         0     no  northwest   3866.85520\n",
      "...   ...     ...     ...       ...    ...        ...          ...\n",
      "1333   50    male  30.970         3     no  northwest  10600.54830\n",
      "1334   18  female  31.920         0     no  northeast   2205.98080\n",
      "1335   18  female  36.850         0     no  southeast   1629.83350\n",
      "1336   21  female  25.800         0     no  southwest   2007.94500\n",
      "1337   61  female  29.070         0    yes  northwest  29141.36030\n",
      "\n",
      "[1338 rows x 7 columns]\n"
     ]
    }
   ],
   "source": [
    "import pandas as pd\n",
    "import numpy as np\n",
    "\n",
    "data = pd.read_csv(\"insurance.csv\")\n",
    "df = pd.DataFrame(data)\n",
    "\n",
    "print(df)\n"
   ]
  },
  {
   "cell_type": "code",
   "execution_count": 3,
   "metadata": {},
   "outputs": [
    {
     "name": "stdout",
     "output_type": "stream",
     "text": [
      "      age     sex    bmi  children smoker     region      charges\n",
      "0      19  female  27.90         0    yes  southwest  16884.92400\n",
      "5      31  female  25.74         0     no  southeast   3756.62160\n",
      "6      46  female  33.44         1     no  southeast   8240.58960\n",
      "7      37  female  27.74         3     no  northwest   7281.50560\n",
      "9      60  female  25.84         0     no  northwest  28923.13692\n",
      "...   ...     ...    ...       ...    ...        ...          ...\n",
      "1332   52  female  44.70         3     no  southwest  11411.68500\n",
      "1334   18  female  31.92         0     no  northeast   2205.98080\n",
      "1335   18  female  36.85         0     no  southeast   1629.83350\n",
      "1336   21  female  25.80         0     no  southwest   2007.94500\n",
      "1337   61  female  29.07         0    yes  northwest  29141.36030\n",
      "\n",
      "[662 rows x 7 columns]\n"
     ]
    }
   ],
   "source": [
    "female = df[df.sex ==\"female\"]\n",
    "print(female)"
   ]
  },
  {
   "cell_type": "code",
   "execution_count": 4,
   "metadata": {},
   "outputs": [
    {
     "name": "stdout",
     "output_type": "stream",
     "text": [
      "The number of female is age         662\n",
      "sex         662\n",
      "bmi         662\n",
      "children    662\n",
      "smoker      662\n",
      "region      662\n",
      "charges     662\n",
      "dtype: int64\n"
     ]
    }
   ],
   "source": [
    "print(\"The number of female is \" + str(female.count()))"
   ]
  },
  {
   "cell_type": "code",
   "execution_count": 6,
   "metadata": {},
   "outputs": [
    {
     "name": "stdout",
     "output_type": "stream",
     "text": [
      "The average chage for female is 12569.57884383534\n"
     ]
    }
   ],
   "source": [
    "print(\"The average chage for female is \" +str(female[\"charges\"].mean()))"
   ]
  },
  {
   "cell_type": "code",
   "execution_count": 7,
   "metadata": {},
   "outputs": [
    {
     "name": "stdout",
     "output_type": "stream",
     "text": [
      "      age   sex     bmi  children smoker     region      charges\n",
      "1      18  male  33.770         1     no  southeast   1725.55230\n",
      "2      28  male  33.000         3     no  southeast   4449.46200\n",
      "3      33  male  22.705         0     no  northwest  21984.47061\n",
      "4      32  male  28.880         0     no  northwest   3866.85520\n",
      "8      37  male  29.830         2     no  northeast   6406.41070\n",
      "...   ...   ...     ...       ...    ...        ...          ...\n",
      "1324   31  male  25.935         1     no  northwest   4239.89265\n",
      "1325   61  male  33.535         0     no  northeast  13143.33665\n",
      "1327   51  male  30.030         1     no  southeast   9377.90470\n",
      "1329   52  male  38.600         2     no  southwest  10325.20600\n",
      "1333   50  male  30.970         3     no  northwest  10600.54830\n",
      "\n",
      "[676 rows x 7 columns]\n"
     ]
    }
   ],
   "source": [
    "male = df[df.sex == \"male\"]\n",
    "print(male)"
   ]
  },
  {
   "cell_type": "code",
   "execution_count": 8,
   "metadata": {},
   "outputs": [
    {
     "name": "stdout",
     "output_type": "stream",
     "text": [
      "The number of male is age         676\n",
      "sex         676\n",
      "bmi         676\n",
      "children    676\n",
      "smoker      676\n",
      "region      676\n",
      "charges     676\n",
      "dtype: int64\n"
     ]
    }
   ],
   "source": [
    "print(\"The number of male is \" + str(male.count()))"
   ]
  },
  {
   "cell_type": "code",
   "execution_count": 9,
   "metadata": {},
   "outputs": [
    {
     "name": "stdout",
     "output_type": "stream",
     "text": [
      "The average charge of male is 13956.751177721886\n"
     ]
    }
   ],
   "source": [
    "print(\"The average charge of male is \"+str(male[\"charges\"].mean()))"
   ]
  },
  {
   "cell_type": "code",
   "execution_count": null,
   "metadata": {},
   "outputs": [],
   "source": []
  }
 ],
 "metadata": {
  "kernelspec": {
   "display_name": "Python 3",
   "language": "python",
   "name": "python3"
  },
  "language_info": {
   "codemirror_mode": {
    "name": "ipython",
    "version": 3
   },
   "file_extension": ".py",
   "mimetype": "text/x-python",
   "name": "python",
   "nbconvert_exporter": "python",
   "pygments_lexer": "ipython3",
   "version": "3.8.5"
  }
 },
 "nbformat": 4,
 "nbformat_minor": 4
}
